{
 "cells": [
  {
   "cell_type": "markdown",
   "metadata": {},
   "source": [
    " # Ansible Basics"
   ]
  },
  {
   "cell_type": "markdown",
   "metadata": {},
   "source": [
    "### What is Ansible"
   ]
  },
  {
   "cell_type": "markdown",
   "metadata": {},
   "source": [
    "Ansible is a configuration management tool or infrastructure automation tool. \n",
    "\n",
    "Puppet, Chef and Salt stack are few other configuration management tools available.\n",
    "Each of these(Other than Ansible) tools operate in Master-Agent model.\n",
    "    * Puppet Master -> Puppet Agent\n",
    "    * Chef Server -> Chef Client\n",
    "    * Salt Master -> Salt Minion\n",
    "\n",
    "Ansible operates in agent less model.\n",
    "Uses SSH connection(openssh or paramiko). There are few other connection modes(docker, local etc...)\n",
    "\n",
    "Ansible is written in python. Having python knowledge helps but not required.\n",
    "\n",
    "Ansible installation:\n",
    "    * Through system package manager\n",
    "    * Through python package manager\n",
    "    \n",
    "More information is available at below link:  \n",
    "https://docs.ansible.com/ansible/latest/installation_guide/intro_installation.html"
   ]
  },
  {
   "cell_type": "markdown",
   "metadata": {},
   "source": [
    "### Installing Through Package manager"
   ]
  },
  {
   "cell_type": "markdown",
   "metadata": {},
   "source": [
    "On a Redhat/CentOS flavor of Linux.\n",
    "\n",
    "```yum install epel-release -y```  \n",
    "```yum install ansible```  \n",
    "\n",
    "On Debian/Ubuntu flavor of Linux.\n",
    "\n",
    "```apt-get update```  \n",
    "```apt install software-properties-common```  \n",
    "```apt-add-repository --yes --update ppa:ansible/ansible```   \n",
    "```apt-get install ansible -y```  \n",
    "\n",
    "Upon successful installation check ansible version\n",
    "\n",
    "```ansible --version```  "
   ]
  },
  {
   "cell_type": "markdown",
   "metadata": {},
   "source": [
    "### Installing Through python package manager"
   ]
  },
  {
   "cell_type": "markdown",
   "metadata": {},
   "source": [
    "Check if pip is already installed. If not install it.  \n",
    "\n",
    "```sh\n",
    "curl https://bootstrap.pypa.io/get-pip.py -o get-pip.py  \n",
    "python get-pip.py  \n",
    "pip install virtualenv  \n",
    "virtualenv ansible_env  \n",
    "source ansible_env/bin/activate  \n",
    "pip install ansible\n",
    "```\n",
    "\n",
    "Upon successful installation, check ansible version.  \n",
    "\n",
    "```sh\n",
    "ansible --version  \n",
    "```  \n",
    "\n",
    "For future installation on a different set of servers  \n",
    "```pip freeze > requirements.txt```  \n",
    "push the requirements.txt file to the target server and run below command there.\n",
    "\n",
    "```pip install -r requirements.txt```  \n",
    "\n"
   ]
  },
  {
   "cell_type": "markdown",
   "metadata": {},
   "source": [
    "### Important files"
   ]
  },
  {
   "cell_type": "markdown",
   "metadata": {},
   "source": [
    "* ansible.cfg\n",
    "* inventory/hosts file"
   ]
  },
  {
   "cell_type": "markdown",
   "metadata": {},
   "source": [
    "### andible.cfg file"
   ]
  },
  {
   "cell_type": "markdown",
   "metadata": {},
   "source": [
    "Ansible loads the ansible configuration file in below order.\n",
    "\n",
    "* ansible.cfg (in the current directory)\n",
    "* ANSIBLE_CONFIG (an environment variable)\n",
    "* .ansible.cfg (in the home directory)\n",
    "* /etc/ansible/ansible.cfg\n",
    "\n",
    "More information on ansible.cfg file can be found at below link.\n",
    "\n",
    "https://docs.ansible.com/ansible/2.4/intro_configuration.html  \n",
    "https://github.com/ansible/ansible/blob/devel/examples/ansible.cfg\n",
    "\n",
    "  \n",
    "\n",
    "#### Below is a sample ansible.cfg file\n",
    "```INI\n",
    "[defaults]  \n",
    "inventory = /path/to/inventory/file  \n",
    "host_key_checking = False #To disable ssh host key   \n",
    "log_path = /path/to/ansible/logfile #To store the output of ansible executions to a log file  \n",
    "ansible_ssh_user = root #Use some other user if privileges are available.\n",
    "```\n",
    "##### ansible special variables:\n",
    "\n",
    "https://docs.ansible.com/ansible/latest/reference_appendices/special_variables.html\n",
    "\n"
   ]
  },
  {
   "cell_type": "markdown",
   "metadata": {},
   "source": [
    "### inventory file"
   ]
  },
  {
   "cell_type": "markdown",
   "metadata": {},
   "source": [
    "Ansible supports Static inventory and Dynamic inventory.\n",
    "\n",
    "##### Static Inventory:\n",
    "##### --------------------\n",
    "\n",
    "Static inventory contains a list of hosts if required separated into groups. Static inventory can also contain the host variables and group variables.\n",
    "\n",
    "##### Dynamic Inventory:\n",
    "##### -------------------------\n",
    "\n",
    "If your Ansible inventory fluctuates over time, with hosts spinning up and shutting down in response to business demands, the static inventory solutions is not suitable. You may need to track hosts from multiple sources: cloud providers, LDAP, Cobbler, and/or enterprise CMDB systems.\n",
    "\n",
    "Ansible integrates all of these options via a dynamic external inventory system. Ansible supports two ways to connect with external inventory: Inventory Plugins and inventory scripts.\n",
    "\n",
    "https://docs.ansible.com/ansible/latest/plugins/inventory.html#inventory-plugins\n",
    "https://github.com/ansible/ansible/tree/devel/contrib/inventory\n",
    "\n",
    "#### Static Inventory Example:\n",
    "```INI\n",
    "host01.ibm.cloud.com  \n",
    "host02.ibm.cloud.com  \n",
    "ansibletower  \n",
    "ansiblehost01  \n",
    "\n",
    "[ubuntu]  \n",
    "host01.ibm.cloud.com  \n",
    "host02.ibm.cloud.com  \n",
    "\n",
    "[centos]  \n",
    "ansibletower  \n",
    "ansiblehost01  \n",
    "\n",
    "[webservers]  \n",
    "host01.ibm.cloud.com   \n",
    "host02.ibm.cloud.com  \n",
    "  \n",
    "[db]  \n",
    "ansibletower\n",
    "  \n",
    "[appservers]  \n",
    "ansiblehost01\n",
    "\n",
    "[ubuntu:vars]  \n",
    "ansible_user = teja  \n",
    "\n",
    "[all:vars]  \n",
    "ansible_ssh_private_key_file = /home/teja/.ssh/id_rsa  \n",
    "\n",
    "```\n"
   ]
  },
  {
   "cell_type": "markdown",
   "metadata": {},
   "source": [
    "### ad-hoc commands\n",
    "\n",
    "```sh\n",
    "ansible -i inventory --list-hosts  \n",
    "\n",
    "ansible -m ping all  \n",
    "\n",
    "ansible centos -m setup  \n",
    "ansible ubuntu -m setup  \n",
    "```\n",
    "\n",
    "#### command modules\n",
    "\n",
    "raw  \n",
    "shell  \n",
    "command   \n",
    "```sh\n",
    "ansible all -i host02, -m raw -a \"ls -lrt\"  \n",
    "ansible all -i host02, -m command -a \"ls -lrt\"  \n",
    "ansible all -i host02, -m shell -a \"ls -lrt\"  \n",
    "\n",
    "ansible all -m debug --args='msg=\"sample debug output\"'  \n",
    "ansible all -i localhost, -m debug --args='msg=\"sample debug output\"'  \n",
    "ansible all -i localhost, -m debug --args='msg=\"sample debug output\" verbosity=0'  \n",
    "\n",
    "export ANSIBLE_KEEP_REMOTE_FILES=1  \n",
    "\n",
    "ansible all -i localhost, -m raw -a \"ls -lrt /tmp\" -c local -vvv  \n",
    "\n",
    "ansible all -i localhost, -m command -a \"ls -lrt /tmp > /tmp/command.txt\" -c local -vvv  \n",
    "\n",
    "ansible all -i localhost, -m shell -a \"ls -lrt /tmp > /tmp/command.txt\" -c local -vvv  \n",
    "\n",
    "```\n"
   ]
  },
  {
   "cell_type": "markdown",
   "metadata": {},
   "source": [
    "### Variables\n",
    "\n",
    "\n",
    "Variable in playbooks are very similar to using variables in any programming language. It helps you to use and assign a value to a variable and use that anywhere in the playbook. One can put conditions around the value of the variables and accordingly use them in the playbook.  \n",
    "\n",
    "Refer the variables.cfg file\n",
    "\n"
   ]
  },
  {
   "cell_type": "markdown",
   "metadata": {},
   "source": [
    "### Modules\n",
    "\n",
    "https://docs.ansible.com/ansible/latest/modules/modules_by_category.html  \n",
    "\n",
    "Modules (also referred to as “task plugins” or “library plugins”) are discrete units of code that can be used from the command line or in a playbook task. Ansible executes each module, usually on the remote target node, and collects return values  \n",
    "\n"
   ]
  },
  {
   "cell_type": "markdown",
   "metadata": {},
   "source": [
    "### YAML\n",
    "\n",
    "Yet another markup language. Unlike the name suggests, it is not a markup language. "
   ]
  },
  {
   "cell_type": "markdown",
   "metadata": {},
   "source": [
    "### Ansible Playbook\n",
    "\n",
    "Ansible playbook is a yaml file that contains one or more plays.    \n",
    "The function of a play is to map a set of instructions defined against a particular host/group of hosts.  \n",
    "A play can contain one or more tasks.  \n",
    "Tasks are list of actions(using modules) that need to performed.  \n",
    "block is a type of task that contains one or more tasks(grouping of tasks)  \n"
   ]
  },
  {
   "cell_type": "markdown",
   "metadata": {},
   "source": [
    "### Privilege Escalation\n",
    "\n",
    "Using become methods a normal user can perform privileged(root) actions.\n",
    "```sh\n",
    "become_method  \n",
    "become_user\n",
    "become(True/False)  \n",
    "```\n",
    "These are the parameters one can use to achieve the privilege escalation on a target mission.  \n",
    "\n",
    "\n"
   ]
  },
  {
   "cell_type": "markdown",
   "metadata": {},
   "source": [
    "### Handlers\n",
    "\n",
    "Handlers are like tasks, but only get triggered once. From tasks we can use a keyword 'notify' to invoke the handler.  \n",
    "However, how many notifys are used for a handler, handler gets triggered only after the tasks block is completed.  "
   ]
  },
  {
   "cell_type": "markdown",
   "metadata": {},
   "source": [
    "### Jinja2 templates\n",
    "\n",
    "Templates module can be used to in combination with jinja2 template to create a file on target server.  With templates, you can use variable replacement and perform conditional checks and even run loops.  \n",
    "\n",
    "Ansible uses jinja templating for it's variables and facts. variables' values reflect only when used in below format.  \n",
    "```yaml\n",
    "\"{{ variable_name }}\"  \n",
    "```\n",
    "catches: in debug module, when you 'msg' you need to keep the variable in jinja templating format. But 'var' it is not required.  \n",
    "\n",
    "When creating properties files, INI files and some scripts the template module really helps.  "
   ]
  },
  {
   "cell_type": "markdown",
   "metadata": {},
   "source": [
    "### Loops and conditions\n",
    "\n",
    "Ansible uses different ways to implement loops over list of items or dictionary items.\n",
    "```sh\n",
    "with  \n",
    "with_items  \n",
    "loop  \n",
    "```"
   ]
  },
  {
   "cell_type": "markdown",
   "metadata": {},
   "source": [
    "### include and imports\n",
    "\n",
    "Using include statement you can include variables and tasks that are difined in separate files.\n",
    "\n",
    "include (for including plays and variables)  \n",
    "include_role (For including roles)  \n",
    "include_tasks (For including tasks)  \n",
    "\n",
    "import_playbook   \n",
    "import_tasks  \n",
    "import_role  \n",
    "\n",
    "Examples:  \n",
    "```yaml\n",
    "tasks:  \n",
    "  - import_role:  \n",
    "      name: myrole  \n",
    "      \n",
    "------------------  \n",
    "- hosts: localhost  \n",
    "  tasks:  \n",
    "    - debug:  \n",
    "        msg: play1  \n",
    "\n",
    "- name: Include a play after another play  \n",
    "  import_playbook: otherplays.yaml  \n",
    "\n",
    "------------------\n",
    "- hosts: localhost\n",
    "  tasks:\n",
    "    - debug:\n",
    "        msg: play1\n",
    "\n",
    "- name: Include a play after another play\n",
    "  include: otherplays.yaml\n",
    "------------------  \n",
    "\n",
    "tasks:\n",
    "- import_tasks: common_tasks.yml\n",
    "#or\n",
    "- include_tasks: common_tasks.yml\n",
    "```\n",
    "\n",
    "#### Difference between import and include\n",
    "\n",
    "All import* statements are pre-processed at the time playbooks are parsed.\n",
    "All include* statements are processed as they are encountered during the execution of the playbook.\n",
    "\n",
    "        \n"
   ]
  },
  {
   "cell_type": "markdown",
   "metadata": {},
   "source": [
    "### Roles\n",
    "\n",
    "Roles provide a framework for fully independent, or interdependent collections of variables, tasks, files, templates, and modules.  \n",
    "\n",
    "In Ansible, the role is the primary mechanism for breaking a playbook into multiple files. This simplifies writing complex playbooks, and it makes them easier to reuse. The breaking of playbook allows you to logically break the playbook into reusable components.  \n",
    "\n",
    "Each role is basically limited to a particular functionality or desired output, with all the necessary steps to provide that result either within that role itself or in other roles listed as dependencies.  \n",
    "\n",
    "Roles are not playbooks. Roles are small functionality which can be independently used but have to be used within playbooks. There is no way to directly execute a role. Roles have no explicit setting for which host the role will apply to.  \n",
    "\n",
    "\n",
    "```sh\n",
    "ansible-galaxy -h \n",
    "```\n",
    "\n",
    "```sh\n",
    "ansible-galaxy init user\n",
    "```\n",
    "\n",
    "Using roles with in a playbook\n",
    "\n",
    "```yaml\n",
    "--- \n",
    "- hosts: tomcat-node \n",
    "  roles: \n",
    "   - nginx\n",
    "   - user\n",
    "```\n",
    "\n",
    "requirements.yml\n",
    "\n",
    "```sh\n",
    "ansible-galaxy install -r requirements.yml\n",
    "```\n",
    "```yml\n",
    "- src: git+https://github.com/user/repo\n",
    "  name: eap\n",
    "  version: v.1.0 #version or the branch\n",
    "  scm: git\n",
    "\n",
    "```"
   ]
  }
 ],
 "metadata": {
  "celltoolbar": "Attachments",
  "kernelspec": {
   "display_name": "Python 2",
   "language": "python",
   "name": "python2"
  },
  "language_info": {
   "codemirror_mode": {
    "name": "ipython",
    "version": 3
   },
   "file_extension": ".py",
   "mimetype": "text/x-python",
   "name": "python",
   "nbconvert_exporter": "python",
   "pygments_lexer": "ipython3",
   "version": "3.7.3"
  }
 },
 "nbformat": 4,
 "nbformat_minor": 2
}
